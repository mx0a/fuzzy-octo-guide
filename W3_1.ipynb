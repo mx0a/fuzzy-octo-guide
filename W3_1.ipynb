{
 "cells": [
  {
   "cell_type": "code",
   "execution_count": 1,
   "metadata": {},
   "outputs": [
    {
     "ename": "ModuleNotFoundError",
     "evalue": "No module named 'bs4'",
     "output_type": "error",
     "traceback": [
      "\u001b[0;31m---------------------------------------------------------------------------\u001b[0m",
      "\u001b[0;31mModuleNotFoundError\u001b[0m                       Traceback (most recent call last)",
      "\u001b[0;32m<ipython-input-1-44bd36c01d3e>\u001b[0m in \u001b[0;36m<module>\u001b[0;34m()\u001b[0m\n\u001b[0;32m----> 1\u001b[0;31m \u001b[0;32mfrom\u001b[0m \u001b[0mbs4\u001b[0m \u001b[0;32mimport\u001b[0m \u001b[0mBeautifulSoup\u001b[0m\u001b[0;34m\u001b[0m\u001b[0m\n\u001b[0m\u001b[1;32m      2\u001b[0m \u001b[0;32mimport\u001b[0m \u001b[0mrequests\u001b[0m\u001b[0;34m\u001b[0m\u001b[0m\n\u001b[1;32m      3\u001b[0m \u001b[0;32mimport\u001b[0m \u001b[0mpandas\u001b[0m \u001b[0;32mas\u001b[0m \u001b[0mpd\u001b[0m\u001b[0;34m\u001b[0m\u001b[0m\n\u001b[1;32m      4\u001b[0m \u001b[0;32mimport\u001b[0m \u001b[0mnumpy\u001b[0m \u001b[0;32mas\u001b[0m \u001b[0mnp\u001b[0m\u001b[0;34m\u001b[0m\u001b[0m\n\u001b[1;32m      5\u001b[0m \u001b[0;34m\u001b[0m\u001b[0m\n",
      "\u001b[0;31mModuleNotFoundError\u001b[0m: No module named 'bs4'"
     ]
    }
   ],
   "source": [
    "from bs4 import BeautifulSoup\n",
    "import requests\n",
    "import pandas as pd\n",
    "import numpy as np\n",
    "\n",
    "#print(\"Hello Capstone Project Course!\")"
   ]
  },
  {
   "cell_type": "code",
   "execution_count": null,
   "metadata": {},
   "outputs": [],
   "source": [
    "source = requests.get('https://en.wikipedia.org/wiki/List_of_postal_codes_of_Canada:_M').text\n",
    "soup = BeautifulSoup(source, 'lxml')\n",
    "\n",
    "FSA = []\n",
    "for post in soup.find_all('td'):\n",
    "    code = post.text\n",
    "    if code == '':\n",
    "        break\n",
    "    else:\n",
    "        last_chr = int(len(code))\n",
    "        last_chr = last_chr - 1\n",
    "        if code[last_chr] == '\\n':\n",
    "            code = code[:-1]\n",
    "        FSA.append(code)\n",
    "post_dict = {}\n",
    "postcode = []\n",
    "burrough = []\n",
    "neighbourhood = []\n",
    "while len(FSA) > 2:\n",
    "    postcode.append(FSA[0])\n",
    "    burrough.append(FSA[1])\n",
    "    neighbourhood.append(FSA[2])\n",
    "    del FSA[0:3]\n",
    "\n",
    "post_dic = {'Postcode':postcode, 'Burrough':burrough, 'Neighborhood':neighbourhood}\n",
    "\n",
    "df_post = pd.DataFrame(post_dic)\n",
    "\n",
    "df_post = df_post[df_post.Burrough != 'Not assigned']\n",
    "\n",
    "df_post = df_post.groupby(['Postcode', 'Burrough'])['Neighborhood'].apply(', '.join).reset_index()\n",
    "\n",
    "df_post.loc[df_post.Neighborhood == 'Not assigned', 'Neighborhood'] = df_post.Burrough\n",
    "\n",
    "#print(df_post)\n",
    "\n",
    "df_post.shape"
   ]
  }
 ],
 "metadata": {
  "kernelspec": {
   "display_name": "Python 3",
   "language": "python",
   "name": "python3"
  },
  "language_info": {
   "codemirror_mode": {
    "name": "ipython",
    "version": 3
   },
   "file_extension": ".py",
   "mimetype": "text/x-python",
   "name": "python",
   "nbconvert_exporter": "python",
   "pygments_lexer": "ipython3",
   "version": "3.6.6"
  }
 },
 "nbformat": 4,
 "nbformat_minor": 2
}

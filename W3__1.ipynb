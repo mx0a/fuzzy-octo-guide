{
 "cells": [
  {
   "cell_type": "code",
   "execution_count": 6,
   "metadata": {
    "collapsed": false
   },
   "outputs": [
   ],
   "source": [
    "from bs4 import BeautifulSoup"
   ]
  },
  {
   "cell_type": "code",
   "execution_count": 7,
   "metadata": {
    "collapsed": false
   },
   "outputs": [
   ],
   "source": [
    "import requests"
   ]
  },
  {
   "cell_type": "code",
   "execution_count": 8,
   "metadata": {
    "collapsed": false
   },
   "outputs": [
   ],
   "source": [
    "import pandas as pd"
   ]
  },
  {
   "cell_type": "code",
   "execution_count": 9,
   "metadata": {
    "collapsed": false
   },
   "outputs": [
   ],
   "source": [
    "import numpy as np"
   ]
  },
  {
   "cell_type": "code",
   "execution_count": 10,
   "metadata": {
    "collapsed": false,
    "scrolled": true
   },
   "outputs": [
   ],
   "source": [
    "source = requests.get('https://en.wikipedia.org/wiki/List_of_postal_codes_of_Canada:_M').text\n",
    "soup = BeautifulSoup(source, 'lxml')\n",
    "\n",
    "FSA = []\n",
    "for post in soup.find_all('td'):\n",
    "    code = post.text\n",
    "    if code == '':\n",
    "        break\n",
    "    else:\n",
    "        last_chr = int(len(code))\n",
    "        last_chr = last_chr - 1\n",
    "        if code[last_chr] == '\\n':\n",
    "            code = code[:-1]\n",
    "        FSA.append(code)\n",
    "post_dict = {}\n",
    "postcode = []\n",
    "burrough = []\n",
    "neighbourhood = []\n",
    "while len(FSA) > 2:\n",
    "    postcode.append(FSA[0])\n",
    "    burrough.append(FSA[1])\n",
    "    neighbourhood.append(FSA[2])\n",
    "    del FSA[0:3]\n",
    "\n",
    "post_dic = {'Postcode':postcode, 'Burrough':burrough, 'Neighborhood':neighbourhood}\n",
    "\n",
    "df_post = pd.DataFrame(post_dic)\n",
    "\n",
    "df_post = df_post[df_post.Burrough != 'Not assigned']\n",
    "\n",
    "df_post = df_post.groupby(['Postcode', 'Burrough'])['Neighborhood'].apply(', '.join).reset_index()\n",
    "\n",
    "df_post.loc[df_post.Neighborhood == 'Not assigned', 'Neighborhood'] = df_post.Burrough\n",
    "\n",
    "#print(df_post)\n",
    "\n",
    "df_post.shape"
   ]
  }
 ],
 "metadata": {
  "kernelspec": {
   "display_name": "SageMath (stable)",
   "name": "sagemath"
  },
  "language_info": {
   "codemirror_mode": {
    "name": "ipython",
    "version": 2
   },
   "file_extension": ".py",
   "mimetype": "text/x-python",
   "name": "python",
   "nbconvert_exporter": "python",
   "pygments_lexer": "ipython2",
   "version": "2.7.15"
  }
 },
 "nbformat": 4,
 "nbformat_minor": 0
}